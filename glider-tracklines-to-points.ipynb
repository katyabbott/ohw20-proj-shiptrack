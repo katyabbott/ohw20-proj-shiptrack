{
 "cells": [
  {
   "cell_type": "code",
   "execution_count": 1,
   "metadata": {},
   "outputs": [],
   "source": [
    "from pathlib import Path\n",
    "import json\n",
    "import matplotlib.pyplot as plt\n",
    "%matplotlib inline\n",
    "\n",
    "import pandas as pd\n",
    "import geopandas as gpd"
   ]
  },
  {
   "cell_type": "code",
   "execution_count": 2,
   "metadata": {},
   "outputs": [
    {
     "data": {
      "text/plain": [
       "'0.8.0'"
      ]
     },
     "execution_count": 2,
     "metadata": {},
     "output_type": "execute_result"
    }
   ],
   "source": [
    "gpd.__version__"
   ]
  },
  {
   "cell_type": "code",
   "execution_count": 3,
   "metadata": {},
   "outputs": [],
   "source": [
    "dpath = Path('/usr/mayorgadat/workmain/acoustics/ohw20project')"
   ]
  },
  {
   "cell_type": "code",
   "execution_count": 4,
   "metadata": {},
   "outputs": [],
   "source": [
    "ooinhdeepsections_gdf = gpd.read_file(dpath / 'ooinhdeep-sections_geo.json')"
   ]
  },
  {
   "cell_type": "code",
   "execution_count": 5,
   "metadata": {},
   "outputs": [
    {
     "data": {
      "text/plain": [
       "<matplotlib.axes._subplots.AxesSubplot at 0x7fd0ae5d7d30>"
      ]
     },
     "execution_count": 5,
     "metadata": {},
     "output_type": "execute_result"
    },
    {
     "data": {
      "image/png": "[encoded data removed]",
      "text/plain": [
       "<Figure size 432x288 with 1 Axes>"
      ]
     },
     "metadata": {
      "needs_background": "light"
     },
     "output_type": "display_data"
    }
   ],
   "source": [
    "ooinhdeepsections_gdf.plot()"
   ]
  },
  {
   "cell_type": "code",
   "execution_count": 6,
   "metadata": {},
   "outputs": [
    {
     "data": {
      "text/plain": [
       "37"
      ]
     },
     "execution_count": 6,
     "metadata": {},
     "output_type": "execute_result"
    }
   ],
   "source": [
    "len(ooinhdeepsections_gdf)"
   ]
  },
  {
   "cell_type": "code",
   "execution_count": 7,
   "metadata": {},
   "outputs": [
    {
     "data": {
      "text/html": [
       "<div>\n",
       "<style scoped>\n",
       "    .dataframe tbody tr th:only-of-type {\n",
       "        vertical-align: middle;\n",
       "    }\n",
       "\n",
       "    .dataframe tbody tr th {\n",
       "        vertical-align: top;\n",
       "    }\n",
       "\n",
       "    .dataframe thead th {\n",
       "        text-align: right;\n",
       "    }\n",
       "</style>\n",
       "<table border=\"1\" class=\"dataframe\">\n",
       "  <thead>\n",
       "    <tr style=\"text-align: right;\">\n",
       "      <th></th>\n",
       "      <th>id</th>\n",
       "      <th>datetime_start</th>\n",
       "      <th>datetime_end</th>\n",
       "      <th>direction</th>\n",
       "      <th>dive_nbr_start</th>\n",
       "      <th>dive_nbr_end</th>\n",
       "      <th>glider_id</th>\n",
       "      <th>deployment_id</th>\n",
       "      <th>data_label</th>\n",
       "      <th>data_url</th>\n",
       "      <th>geometry</th>\n",
       "    </tr>\n",
       "  </thead>\n",
       "  <tbody>\n",
       "    <tr>\n",
       "      <th>0</th>\n",
       "      <td>ce383_Feb20_s005</td>\n",
       "      <td>2020-04-07T21:27:06</td>\n",
       "      <td>2020-04-08T21:38:01</td>\n",
       "      <td>Westward</td>\n",
       "      <td>759</td>\n",
       "      <td>827</td>\n",
       "      <td>ce383</td>\n",
       "      <td>ce383_Feb20</td>\n",
       "      <td>Glider DAC</td>\n",
       "      <td>https://gliders.ioos.us/erddap/tabledap/ce_383...</td>\n",
       "      <td>LINESTRING (-124.30895 44.65061, -124.30634 44...</td>\n",
       "    </tr>\n",
       "    <tr>\n",
       "      <th>1</th>\n",
       "      <td>ce383_Feb20_s004</td>\n",
       "      <td>2020-03-26T10:04:47</td>\n",
       "      <td>2020-04-07T21:12:25</td>\n",
       "      <td>Eastward</td>\n",
       "      <td>576</td>\n",
       "      <td>758</td>\n",
       "      <td>ce383</td>\n",
       "      <td>ce383_Feb20</td>\n",
       "      <td>Glider DAC</td>\n",
       "      <td>https://gliders.ioos.us/erddap/tabledap/ce_383...</td>\n",
       "      <td>LINESTRING (-127.93011 44.65219, -127.89290 44...</td>\n",
       "    </tr>\n",
       "    <tr>\n",
       "      <th>2</th>\n",
       "      <td>ce383_Feb20_s003</td>\n",
       "      <td>2020-03-15T19:13:39</td>\n",
       "      <td>2020-03-26T06:49:03</td>\n",
       "      <td>Westward</td>\n",
       "      <td>479</td>\n",
       "      <td>575</td>\n",
       "      <td>ce383</td>\n",
       "      <td>ce383_Feb20</td>\n",
       "      <td>Glider DAC</td>\n",
       "      <td>https://gliders.ioos.us/erddap/tabledap/ce_383...</td>\n",
       "      <td>LINESTRING (-124.57727 44.65980, -124.58614 44...</td>\n",
       "    </tr>\n",
       "    <tr>\n",
       "      <th>3</th>\n",
       "      <td>ce383_Feb20_s002</td>\n",
       "      <td>2020-03-04T12:27:04</td>\n",
       "      <td>2020-03-15T18:26:26</td>\n",
       "      <td>Eastward</td>\n",
       "      <td>372</td>\n",
       "      <td>478</td>\n",
       "      <td>ce383</td>\n",
       "      <td>ce383_Feb20</td>\n",
       "      <td>Glider DAC</td>\n",
       "      <td>https://gliders.ioos.us/erddap/tabledap/ce_383...</td>\n",
       "      <td>LINESTRING (-127.91776 44.65940, -127.87003 44...</td>\n",
       "    </tr>\n",
       "    <tr>\n",
       "      <th>4</th>\n",
       "      <td>ce383_Feb20_s001</td>\n",
       "      <td>2020-02-20T21:44:09</td>\n",
       "      <td>2020-03-04T08:57:11</td>\n",
       "      <td>Westward</td>\n",
       "      <td>1</td>\n",
       "      <td>371</td>\n",
       "      <td>ce383</td>\n",
       "      <td>ce383_Feb20</td>\n",
       "      <td>Glider DAC</td>\n",
       "      <td>https://gliders.ioos.us/erddap/tabledap/ce_383...</td>\n",
       "      <td>LINESTRING (-124.21416 44.54031, -124.21445 44...</td>\n",
       "    </tr>\n",
       "  </tbody>\n",
       "</table>\n",
       "</div>"
      ],
      "text/plain": [
       "                 id       datetime_start         datetime_end direction  \\\n",
       "0  ce383_Feb20_s005  2020-04-07T21:27:06  2020-04-08T21:38:01  Westward   \n",
       "1  ce383_Feb20_s004  2020-03-26T10:04:47  2020-04-07T21:12:25  Eastward   \n",
       "2  ce383_Feb20_s003  2020-03-15T19:13:39  2020-03-26T06:49:03  Westward   \n",
       "3  ce383_Feb20_s002  2020-03-04T12:27:04  2020-03-15T18:26:26  Eastward   \n",
       "4  ce383_Feb20_s001  2020-02-20T21:44:09  2020-03-04T08:57:11  Westward   \n",
       "\n",
       "   dive_nbr_start  dive_nbr_end glider_id deployment_id  data_label  \\\n",
       "0             759           827     ce383   ce383_Feb20  Glider DAC   \n",
       "1             576           758     ce383   ce383_Feb20  Glider DAC   \n",
       "2             479           575     ce383   ce383_Feb20  Glider DAC   \n",
       "3             372           478     ce383   ce383_Feb20  Glider DAC   \n",
       "4               1           371     ce383   ce383_Feb20  Glider DAC   \n",
       "\n",
       "                                            data_url  \\\n",
       "0  https://gliders.ioos.us/erddap/tabledap/ce_383...   \n",
       "1  https://gliders.ioos.us/erddap/tabledap/ce_383...   \n",
       "2  https://gliders.ioos.us/erddap/tabledap/ce_383...   \n",
       "3  https://gliders.ioos.us/erddap/tabledap/ce_383...   \n",
       "4  https://gliders.ioos.us/erddap/tabledap/ce_383...   \n",
       "\n",
       "                                            geometry  \n",
       "0  LINESTRING (-124.30895 44.65061, -124.30634 44...  \n",
       "1  LINESTRING (-127.93011 44.65219, -127.89290 44...  \n",
       "2  LINESTRING (-124.57727 44.65980, -124.58614 44...  \n",
       "3  LINESTRING (-127.91776 44.65940, -127.87003 44...  \n",
       "4  LINESTRING (-124.21416 44.54031, -124.21445 44...  "
      ]
     },
     "execution_count": 7,
     "metadata": {},
     "output_type": "execute_result"
    }
   ],
   "source": [
    "ooinhdeepsections_gdf.head()"
   ]
  },
  {
   "cell_type": "code",
   "execution_count": 8,
   "metadata": {},
   "outputs": [],
   "source": [
    "trinidadsections_gdf = gpd.read_file(dpath / 'trinidad-sections_geo.json')"
   ]
  },
  {
   "cell_type": "code",
   "execution_count": 9,
   "metadata": {},
   "outputs": [
    {
     "data": {
      "text/plain": [
       "<matplotlib.axes._subplots.AxesSubplot at 0x7fd0ae64f6a0>"
      ]
     },
     "execution_count": 9,
     "metadata": {},
     "output_type": "execute_result"
    },
    {
     "data": {
      "image/png": "[encoded data removed]",
      "text/plain": [
       "<Figure size 432x288 with 1 Axes>"
      ]
     },
     "metadata": {
      "needs_background": "light"
     },
     "output_type": "display_data"
    }
   ],
   "source": [
    "trinidadsections_gdf.plot()"
   ]
  },
  {
   "cell_type": "code",
   "execution_count": 10,
   "metadata": {},
   "outputs": [
    {
     "data": {
      "text/plain": [
       "55"
      ]
     },
     "execution_count": 10,
     "metadata": {},
     "output_type": "execute_result"
    }
   ],
   "source": [
    "len(trinidadsections_gdf)"
   ]
  },
  {
   "cell_type": "code",
   "execution_count": 11,
   "metadata": {},
   "outputs": [
    {
     "data": {
      "text/html": [
       "<div>\n",
       "<style scoped>\n",
       "    .dataframe tbody tr th:only-of-type {\n",
       "        vertical-align: middle;\n",
       "    }\n",
       "\n",
       "    .dataframe tbody tr th {\n",
       "        vertical-align: top;\n",
       "    }\n",
       "\n",
       "    .dataframe thead th {\n",
       "        text-align: right;\n",
       "    }\n",
       "</style>\n",
       "<table border=\"1\" class=\"dataframe\">\n",
       "  <thead>\n",
       "    <tr style=\"text-align: right;\">\n",
       "      <th></th>\n",
       "      <th>id</th>\n",
       "      <th>datetime_start</th>\n",
       "      <th>datetime_end</th>\n",
       "      <th>direction</th>\n",
       "      <th>dive_nbr_start</th>\n",
       "      <th>dive_nbr_end</th>\n",
       "      <th>glider_id</th>\n",
       "      <th>deployment_id</th>\n",
       "      <th>geometry</th>\n",
       "    </tr>\n",
       "  </thead>\n",
       "  <tbody>\n",
       "    <tr>\n",
       "      <th>0</th>\n",
       "      <td>Sep19_s006</td>\n",
       "      <td>2020-01-31T23:40:01</td>\n",
       "      <td>2020-03-02T12:25:25</td>\n",
       "      <td>Eastward</td>\n",
       "      <td>580</td>\n",
       "      <td>694</td>\n",
       "      <td>uw157</td>\n",
       "      <td>Sep19</td>\n",
       "      <td>LINESTRING (-130.01698 41.05910, -130.01634 41...</td>\n",
       "    </tr>\n",
       "    <tr>\n",
       "      <th>1</th>\n",
       "      <td>Sep19_s005</td>\n",
       "      <td>2020-01-02T06:29:32</td>\n",
       "      <td>2020-01-31T23:40:01</td>\n",
       "      <td>Westward</td>\n",
       "      <td>465</td>\n",
       "      <td>579</td>\n",
       "      <td>uw157</td>\n",
       "      <td>Sep19</td>\n",
       "      <td>LINESTRING (-124.36099 41.06173, -124.36108 41...</td>\n",
       "    </tr>\n",
       "    <tr>\n",
       "      <th>2</th>\n",
       "      <td>Sep19_s004</td>\n",
       "      <td>2019-12-06T06:27:31</td>\n",
       "      <td>2020-01-02T06:29:32</td>\n",
       "      <td>Eastward</td>\n",
       "      <td>358</td>\n",
       "      <td>464</td>\n",
       "      <td>uw157</td>\n",
       "      <td>Sep19</td>\n",
       "      <td>LINESTRING (-129.98174 41.07565, -129.98237 41...</td>\n",
       "    </tr>\n",
       "    <tr>\n",
       "      <th>3</th>\n",
       "      <td>Sep19_s003</td>\n",
       "      <td>2019-11-13T05:27:01</td>\n",
       "      <td>2019-12-06T06:27:31</td>\n",
       "      <td>Westward</td>\n",
       "      <td>261</td>\n",
       "      <td>357</td>\n",
       "      <td>uw157</td>\n",
       "      <td>Sep19</td>\n",
       "      <td>LINESTRING (-124.34712 41.05872, -124.34728 41...</td>\n",
       "    </tr>\n",
       "    <tr>\n",
       "      <th>4</th>\n",
       "      <td>Sep19_s002</td>\n",
       "      <td>2019-10-13T21:01:37</td>\n",
       "      <td>2019-11-13T05:27:01</td>\n",
       "      <td>Eastward</td>\n",
       "      <td>127</td>\n",
       "      <td>260</td>\n",
       "      <td>uw157</td>\n",
       "      <td>Sep19</td>\n",
       "      <td>LINESTRING (-130.00545 41.07742, -130.00545 41...</td>\n",
       "    </tr>\n",
       "  </tbody>\n",
       "</table>\n",
       "</div>"
      ],
      "text/plain": [
       "           id       datetime_start         datetime_end direction  \\\n",
       "0  Sep19_s006  2020-01-31T23:40:01  2020-03-02T12:25:25  Eastward   \n",
       "1  Sep19_s005  2020-01-02T06:29:32  2020-01-31T23:40:01  Westward   \n",
       "2  Sep19_s004  2019-12-06T06:27:31  2020-01-02T06:29:32  Eastward   \n",
       "3  Sep19_s003  2019-11-13T05:27:01  2019-12-06T06:27:31  Westward   \n",
       "4  Sep19_s002  2019-10-13T21:01:37  2019-11-13T05:27:01  Eastward   \n",
       "\n",
       "   dive_nbr_start  dive_nbr_end glider_id deployment_id  \\\n",
       "0             580           694     uw157         Sep19   \n",
       "1             465           579     uw157         Sep19   \n",
       "2             358           464     uw157         Sep19   \n",
       "3             261           357     uw157         Sep19   \n",
       "4             127           260     uw157         Sep19   \n",
       "\n",
       "                                            geometry  \n",
       "0  LINESTRING (-130.01698 41.05910, -130.01634 41...  \n",
       "1  LINESTRING (-124.36099 41.06173, -124.36108 41...  \n",
       "2  LINESTRING (-129.98174 41.07565, -129.98237 41...  \n",
       "3  LINESTRING (-124.34712 41.05872, -124.34728 41...  \n",
       "4  LINESTRING (-130.00545 41.07742, -130.00545 41...  "
      ]
     },
     "execution_count": 11,
     "metadata": {},
     "output_type": "execute_result"
    }
   ],
   "source": [
    "trinidadsections_gdf.head()"
   ]
  },
  {
   "cell_type": "code",
   "execution_count": 19,
   "metadata": {},
   "outputs": [],
   "source": [
    "def explode_to_pointsgdf(ingdf):\n",
    "    linesgdf = ingdf.copy()\n",
    "    linesgdf['points'] = linesgdf.apply(lambda x: [y for y in x['geometry'].coords], axis=1)\n",
    "    linesdf = pd.DataFrame(linesgdf.drop(columns='geometry'), copy=True)\n",
    "    \n",
    "    pointsdf = linesdf.explode('points').reset_index(drop=True)\n",
    "    # index=pointsdf.index might not be needed ...\n",
    "    pointsdf[['longitude', 'latitude']] = pd.DataFrame(pointsdf['points'].tolist(), index=pointsdf.index)\n",
    "    pointsdf.drop(columns='points', inplace=True)\n",
    "    pointsgdf = gpd.GeoDataFrame(pointsdf, geometry=gpd.points_from_xy(pointsdf['longitude'], pointsdf['latitude']))\n",
    "    \n",
    "    return pointsgdf"
   ]
  },
  {
   "cell_type": "code",
   "execution_count": 20,
   "metadata": {},
   "outputs": [],
   "source": [
    "ooinhdeeppoints_gdf = explode_to_pointsgdf(ooinhdeepsections_gdf)"
   ]
  },
  {
   "cell_type": "code",
   "execution_count": 21,
   "metadata": {},
   "outputs": [
    {
     "data": {
      "text/plain": [
       "5046"
      ]
     },
     "execution_count": 21,
     "metadata": {},
     "output_type": "execute_result"
    }
   ],
   "source": [
    "len(ooinhdeeppoints_gdf)"
   ]
  },
  {
   "cell_type": "code",
   "execution_count": 22,
   "metadata": {},
   "outputs": [
    {
     "data": {
      "text/html": [
       "<div>\n",
       "<style scoped>\n",
       "    .dataframe tbody tr th:only-of-type {\n",
       "        vertical-align: middle;\n",
       "    }\n",
       "\n",
       "    .dataframe tbody tr th {\n",
       "        vertical-align: top;\n",
       "    }\n",
       "\n",
       "    .dataframe thead th {\n",
       "        text-align: right;\n",
       "    }\n",
       "</style>\n",
       "<table border=\"1\" class=\"dataframe\">\n",
       "  <thead>\n",
       "    <tr style=\"text-align: right;\">\n",
       "      <th></th>\n",
       "      <th>id</th>\n",
       "      <th>datetime_start</th>\n",
       "      <th>datetime_end</th>\n",
       "      <th>direction</th>\n",
       "      <th>dive_nbr_start</th>\n",
       "      <th>dive_nbr_end</th>\n",
       "      <th>glider_id</th>\n",
       "      <th>deployment_id</th>\n",
       "      <th>data_label</th>\n",
       "      <th>data_url</th>\n",
       "      <th>longitude</th>\n",
       "      <th>latitude</th>\n",
       "      <th>geometry</th>\n",
       "    </tr>\n",
       "  </thead>\n",
       "  <tbody>\n",
       "    <tr>\n",
       "      <th>0</th>\n",
       "      <td>ce383_Feb20_s005</td>\n",
       "      <td>2020-04-07T21:27:06</td>\n",
       "      <td>2020-04-08T21:38:01</td>\n",
       "      <td>Westward</td>\n",
       "      <td>759</td>\n",
       "      <td>827</td>\n",
       "      <td>ce383</td>\n",
       "      <td>ce383_Feb20</td>\n",
       "      <td>Glider DAC</td>\n",
       "      <td>https://gliders.ioos.us/erddap/tabledap/ce_383...</td>\n",
       "      <td>-124.30895</td>\n",
       "      <td>44.65061</td>\n",
       "      <td>POINT (-124.30895 44.65061)</td>\n",
       "    </tr>\n",
       "    <tr>\n",
       "      <th>1</th>\n",
       "      <td>ce383_Feb20_s005</td>\n",
       "      <td>2020-04-07T21:27:06</td>\n",
       "      <td>2020-04-08T21:38:01</td>\n",
       "      <td>Westward</td>\n",
       "      <td>759</td>\n",
       "      <td>827</td>\n",
       "      <td>ce383</td>\n",
       "      <td>ce383_Feb20</td>\n",
       "      <td>Glider DAC</td>\n",
       "      <td>https://gliders.ioos.us/erddap/tabledap/ce_383...</td>\n",
       "      <td>-124.30634</td>\n",
       "      <td>44.65065</td>\n",
       "      <td>POINT (-124.30634 44.65065)</td>\n",
       "    </tr>\n",
       "    <tr>\n",
       "      <th>2</th>\n",
       "      <td>ce383_Feb20_s005</td>\n",
       "      <td>2020-04-07T21:27:06</td>\n",
       "      <td>2020-04-08T21:38:01</td>\n",
       "      <td>Westward</td>\n",
       "      <td>759</td>\n",
       "      <td>827</td>\n",
       "      <td>ce383</td>\n",
       "      <td>ce383_Feb20</td>\n",
       "      <td>Glider DAC</td>\n",
       "      <td>https://gliders.ioos.us/erddap/tabledap/ce_383...</td>\n",
       "      <td>-124.31882</td>\n",
       "      <td>44.64663</td>\n",
       "      <td>POINT (-124.31882 44.64663)</td>\n",
       "    </tr>\n",
       "    <tr>\n",
       "      <th>3</th>\n",
       "      <td>ce383_Feb20_s005</td>\n",
       "      <td>2020-04-07T21:27:06</td>\n",
       "      <td>2020-04-08T21:38:01</td>\n",
       "      <td>Westward</td>\n",
       "      <td>759</td>\n",
       "      <td>827</td>\n",
       "      <td>ce383</td>\n",
       "      <td>ce383_Feb20</td>\n",
       "      <td>Glider DAC</td>\n",
       "      <td>https://gliders.ioos.us/erddap/tabledap/ce_383...</td>\n",
       "      <td>-124.32215</td>\n",
       "      <td>44.64606</td>\n",
       "      <td>POINT (-124.32215 44.64606)</td>\n",
       "    </tr>\n",
       "    <tr>\n",
       "      <th>4</th>\n",
       "      <td>ce383_Feb20_s005</td>\n",
       "      <td>2020-04-07T21:27:06</td>\n",
       "      <td>2020-04-08T21:38:01</td>\n",
       "      <td>Westward</td>\n",
       "      <td>759</td>\n",
       "      <td>827</td>\n",
       "      <td>ce383</td>\n",
       "      <td>ce383_Feb20</td>\n",
       "      <td>Glider DAC</td>\n",
       "      <td>https://gliders.ioos.us/erddap/tabledap/ce_383...</td>\n",
       "      <td>-124.32525</td>\n",
       "      <td>44.64547</td>\n",
       "      <td>POINT (-124.32525 44.64547)</td>\n",
       "    </tr>\n",
       "  </tbody>\n",
       "</table>\n",
       "</div>"
      ],
      "text/plain": [
       "                 id       datetime_start         datetime_end direction  \\\n",
       "0  ce383_Feb20_s005  2020-04-07T21:27:06  2020-04-08T21:38:01  Westward   \n",
       "1  ce383_Feb20_s005  2020-04-07T21:27:06  2020-04-08T21:38:01  Westward   \n",
       "2  ce383_Feb20_s005  2020-04-07T21:27:06  2020-04-08T21:38:01  Westward   \n",
       "3  ce383_Feb20_s005  2020-04-07T21:27:06  2020-04-08T21:38:01  Westward   \n",
       "4  ce383_Feb20_s005  2020-04-07T21:27:06  2020-04-08T21:38:01  Westward   \n",
       "\n",
       "   dive_nbr_start  dive_nbr_end glider_id deployment_id  data_label  \\\n",
       "0             759           827     ce383   ce383_Feb20  Glider DAC   \n",
       "1             759           827     ce383   ce383_Feb20  Glider DAC   \n",
       "2             759           827     ce383   ce383_Feb20  Glider DAC   \n",
       "3             759           827     ce383   ce383_Feb20  Glider DAC   \n",
       "4             759           827     ce383   ce383_Feb20  Glider DAC   \n",
       "\n",
       "                                            data_url  longitude  latitude  \\\n",
       "0  https://gliders.ioos.us/erddap/tabledap/ce_383... -124.30895  44.65061   \n",
       "1  https://gliders.ioos.us/erddap/tabledap/ce_383... -124.30634  44.65065   \n",
       "2  https://gliders.ioos.us/erddap/tabledap/ce_383... -124.31882  44.64663   \n",
       "3  https://gliders.ioos.us/erddap/tabledap/ce_383... -124.32215  44.64606   \n",
       "4  https://gliders.ioos.us/erddap/tabledap/ce_383... -124.32525  44.64547   \n",
       "\n",
       "                      geometry  \n",
       "0  POINT (-124.30895 44.65061)  \n",
       "1  POINT (-124.30634 44.65065)  \n",
       "2  POINT (-124.31882 44.64663)  \n",
       "3  POINT (-124.32215 44.64606)  \n",
       "4  POINT (-124.32525 44.64547)  "
      ]
     },
     "execution_count": 22,
     "metadata": {},
     "output_type": "execute_result"
    }
   ],
   "source": [
    "ooinhdeeppoints_gdf.head()"
   ]
  },
  {
   "cell_type": "code",
   "execution_count": 33,
   "metadata": {},
   "outputs": [],
   "source": [
    "ooinhdeeppoints_gdf.drop(columns='data_label').to_file(\n",
    "    dpath / 'ooinhdeep_points.geojson', driver='GeoJSON'\n",
    ")"
   ]
  },
  {
   "cell_type": "code",
   "execution_count": 15,
   "metadata": {},
   "outputs": [
    {
     "data": {
      "text/plain": [
       "'/usr/mayorgadat/workmain/acoustics/gh/OSOceanAcoustics/saildrone_test'"
      ]
     },
     "execution_count": 15,
     "metadata": {},
     "output_type": "execute_result"
    }
   ],
   "source": [
    "pwd"
   ]
  },
  {
   "cell_type": "code",
   "execution_count": null,
   "metadata": {},
   "outputs": [],
   "source": []
  }
 ],
 "metadata": {
  "kernelspec": {
   "display_name": "Python [conda env:whwwaterdata]",
   "language": "python",
   "name": "conda-env-whwwaterdata-py"
  },
  "language_info": {
   "codemirror_mode": {
    "name": "ipython",
    "version": 3
   },
   "file_extension": ".py",
   "mimetype": "text/x-python",
   "name": "python",
   "nbconvert_exporter": "python",
   "pygments_lexer": "ipython3",
   "version": "3.6.10"
  }
 },
 "nbformat": 4,
 "nbformat_minor": 4
}
