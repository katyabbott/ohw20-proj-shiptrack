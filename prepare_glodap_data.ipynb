{
 "cells": [
  {
   "cell_type": "code",
   "execution_count": 1,
   "metadata": {},
   "outputs": [],
   "source": [
    "import numpy as np\n",
    "from scipy.io import loadmat\n",
    "import pandas as pd\n",
    "import geopandas as gpd\n",
    "import seaborn as sns\n",
    "from matplotlib import pyplot as plt\n",
    "from matplotlib import dates as mdates\n",
    "pd.plotting.register_matplotlib_converters()\n",
    "%matplotlib widget"
   ]
  },
  {
   "cell_type": "code",
   "execution_count": 2,
   "metadata": {},
   "outputs": [],
   "source": [
    "# Import GLODAP dataset as a standard pandas DataFrame\n",
    "df = loadmat('datasets/GLODAPv2.2020_Atlantic_Ocean.mat')\n",
    "df = {\n",
    "    k[2:]: v.ravel()\n",
    "    for k, v in df.items()\n",
    "    if k.startswith('G2')\n",
    "}\n",
    "df = pd.DataFrame(df)\n",
    "df['datetime'] = pd.to_datetime(df[['year', 'month', 'day', 'hour', 'minute']])\n",
    "df['datenum'] = mdates.date2num(df.datetime)\n",
    "\n",
    "# Get tables of unique stations and cruises\n",
    "stations = (\n",
    "    df[['cruise', 'station', 'latitude', 'longitude', 'datetime', 'datenum']]\n",
    "    .groupby(['cruise', 'station'])\n",
    "    .agg('mean')\n",
    ")\n",
    "cruises = df.cruise.unique()\n",
    "# ^a few interesting ones: cruises[[0, 30, **47**, 48, 50, 75, 100]]\n",
    "\n",
    "# Also get GeoDataFrame\n",
    "gstations = gpd.GeoDataFrame(\n",
    "    stations, geometry=gpd.points_from_xy(stations.longitude, stations.latitude))"
   ]
  },
  {
   "cell_type": "code",
   "execution_count": 3,
   "metadata": {},
   "outputs": [
    {
     "data": {
      "application/vnd.jupyter.widget-view+json": {
       "model_id": "1d64039bfa5d468db2db3774ec2500ac",
       "version_major": 2,
       "version_minor": 0
      },
      "text/plain": [
       "Canvas(toolbar=Toolbar(toolitems=[('Home', 'Reset original view', 'home', 'home'), ('Back', 'Back to previous …"
      ]
     },
     "metadata": {},
     "output_type": "display_data"
    },
    {
     "data": {
      "text/plain": [
       "<AxesSubplot:xlabel='longitude', ylabel='latitude'>"
      ]
     },
     "execution_count": 3,
     "metadata": {},
     "output_type": "execute_result"
    }
   ],
   "source": [
    "# Plot cruises, highlighting one of them\n",
    "fig, ax = plt.subplots()\n",
    "stations.plot.scatter('longitude', 'latitude', c='xkcd:navy', s=5, alpha=0.5, ax=ax)\n",
    "stations.loc[cruises[47]].plot.scatter('longitude', 'latitude', s=5, alpha=0.9, c='xkcd:strawberry', ax=ax)"
   ]
  },
  {
   "cell_type": "code",
   "execution_count": 38,
   "metadata": {},
   "outputs": [],
   "source": [
    "# Functions copied from Katy Abbott's Rule_based_segmentation.ipynb\n",
    "\n",
    "def bearing(gdf):\n",
    "    from numpy import sin, cos, arctan2\n",
    "    #Take difference between i and i+1 rows, we get a deltalon column\n",
    "    deltalon = np.deg2rad(gdf['longitude'].diff(1).shift(-1))\n",
    "    #Move i+1 to ith row, now we have our lat2 column\n",
    "    lat2 = np.deg2rad(gdf.shift(-1)['latitude'])\n",
    "    #Keep rows the same, this is our lat1 column\n",
    "    lat1 = np.deg2rad(gdf['latitude'])\n",
    "    x0 = sin(deltalon)*cos(lat2)\n",
    "    x1 = cos(lat1)*sin(lat2) - sin(lat1)*cos(lat2)*cos(deltalon)\n",
    "    bearing = arctan2(x0, x1)\n",
    "    return bearing\n",
    "\n",
    "\n",
    "\n",
    "\n",
    "def iterative_segmentation(gdf, criterion, tol):\n",
    "    \"\"\"\n",
    "    gdf is the GeoDataFrame with tracks that you're interested in\n",
    "    criterion is a column name in the gdf that you're using to segment — for example, angle if you're looking\n",
    "        at changes in heading, or speed\n",
    "    tol is the tolerance to a given criterion. For example, a tolerance of .3 means that a change of .3\n",
    "        in criterion value between two rows will be allowed\n",
    "    \"\"\"\n",
    "    trajectory_id = []\n",
    "    if criterion == 'bearing':  #Dealing with unit-circle angle repeats.(Range of arctan2 function is from -pi to pi)\n",
    "        angle_adj = lambda a: (a + np.pi)%(2*np.pi) - np.pi\n",
    "        tol_func = lambda a, b: abs(angle_adj(a - b))\n",
    "    else:\n",
    "        tol_func = lambda a, b: abs(a - b)\n",
    "    j = 0 #i.e., the first trajectory\n",
    "    k = 0 #Keep track of iterations to identify the first row. This solves the problem where row indices don't start from 0\n",
    "    for i, row in gdf.iterrows():\n",
    "        trajectory_id.append(j)\n",
    "        #Assign starting value for the criterion\n",
    "        if k == 0:\n",
    "            start_value = row[criterion]\n",
    "            k+=1\n",
    "        else:\n",
    "            if tol_func(start_value, row[criterion]) < tol:\n",
    "                pass\n",
    "            elif tol_func(start_value, row[criterion]) >= tol:\n",
    "                j+=1 #Start a new trajectory label\n",
    "                k = 0  # reset\n",
    "        start_value = row[criterion] #Update comparison value. This method is more robust to changes in curvature\n",
    "        #that may not represent a new trajectory\n",
    "    gdf['traj_id'] = trajectory_id\n",
    "    return gdf\n",
    "\n",
    "\n",
    "def direction_segmentation(gdf, criterion, tol):\n",
    "    \"\"\"\n",
    "    gdf is the GeoDataFrame with tracks that you're interested in\n",
    "    criterion is a column name in the gdf that you're using to segment — for example, angle if you're looking\n",
    "        at changes in heading, or speed\n",
    "    tol is the tolerance to a given criterion. For example, a tolerance of .3 means that a change of .3\n",
    "        in criterion value between two rows will be allowed\n",
    "    \"\"\"\n",
    "    trajectory_id = []\n",
    "    if criterion == 'bearing':  #Dealing with unit-circle angle repeats.(Range of arctan2 function is from -pi to pi)\n",
    "        angle_adj = lambda a: (a + np.pi)%(2*np.pi) - np.pi\n",
    "        tol_func = lambda a, b: abs(angle_adj(a - b))\n",
    "    else:\n",
    "        tol_func = lambda a, b: abs(a - b)\n",
    "    j = 0 #i.e., the first trajectory\n",
    "    k = 0 #Keep track of iterations to identify the first row. This solves the problem where row indices don't start from 0\n",
    "    for i, row in gdf.iterrows():\n",
    "        #Assign starting value for the criterion\n",
    "        if k == 0:\n",
    "            start_value = row[criterion]\n",
    "            k+=1\n",
    "        else:\n",
    "            if tol_func(start_value, row[criterion]) < tol:\n",
    "                pass\n",
    "            elif tol_func(start_value, row[criterion]) >= tol:\n",
    "                start_angle = row[criterion] #only change starting angle if we're starting a new trajectory\n",
    "                j+=1 #Start a new trajectory label\n",
    "         #Update \n",
    "        trajectory_id.append(j)\n",
    "    gdf['traj_id'] = trajectory_id\n",
    "    return gdf"
   ]
  },
  {
   "cell_type": "code",
   "execution_count": 39,
   "metadata": {},
   "outputs": [
    {
     "name": "stderr",
     "output_type": "stream",
     "text": [
      "/home/matthew/miniconda3/envs/ml/lib/python3.8/site-packages/geopandas/geodataframe.py:853: SettingWithCopyWarning: \n",
      "A value is trying to be set on a copy of a slice from a DataFrame.\n",
      "Try using .loc[row_indexer,col_indexer] = value instead\n",
      "\n",
      "See the caveats in the documentation: https://pandas.pydata.org/pandas-docs/stable/user_guide/indexing.html#returning-a-view-versus-a-copy\n",
      "  super(GeoDataFrame, self).__setitem__(key, value)\n"
     ]
    },
    {
     "data": {
      "application/vnd.jupyter.widget-view+json": {
       "model_id": "b41d40a7cb73437eaa8b57b612536176",
       "version_major": 2,
       "version_minor": 0
      },
      "text/plain": [
       "Canvas(toolbar=Toolbar(toolitems=[('Home', 'Reset original view', 'home', 'home'), ('Back', 'Back to previous …"
      ]
     },
     "metadata": {},
     "output_type": "display_data"
    },
    {
     "data": {
      "text/plain": [
       "Text(0.5, 1.0, 'Segments')"
      ]
     },
     "execution_count": 39,
     "metadata": {},
     "output_type": "execute_result"
    }
   ],
   "source": [
    "# Just get the cruise of interest now as a GeoDataFrame\n",
    "cruise_of_interest = cruises[47]\n",
    "# ^a few interesting ones: cruises[[0, 30, **47**, 48, 50, 75, 100]]\n",
    "# Much more challenging ones: cruises[[92]]\n",
    "dataset = gstations.loc[cruise_of_interest]\n",
    "dataset\n",
    "\n",
    "# Apply segmentation\n",
    "dataset['bearing'] = bearing(dataset)\n",
    "dataset = iterative_segmentation(dataset, 'bearing', np.deg2rad(45))\n",
    "dataset['traj_id'] = dataset['traj_id'].astype('category')  # improves plotting with Seaborn\n",
    "\n",
    "# Plot bearing and segmentation\n",
    "fig, axs = plt.subplots(ncols=2, figsize=(10, 5))\n",
    "for ax in axs:\n",
    "    ax.plot('longitude', 'latitude', data=dataset, c='k', zorder=0)\n",
    "sns.scatterplot(x='longitude', y='latitude', hue='bearing', data=dataset, ax=axs[0], palette='viridis')\n",
    "sns.scatterplot(x='longitude', y='latitude', hue='traj_id', data=dataset, ax=axs[1], palette='Set1', legend=False)\n",
    "axs[1].set_title('Segments')"
   ]
  },
  {
   "cell_type": "code",
   "execution_count": null,
   "metadata": {},
   "outputs": [],
   "source": []
  }
 ],
 "metadata": {
  "kernelspec": {
   "display_name": "Python 3",
   "language": "python",
   "name": "python3"
  },
  "language_info": {
   "codemirror_mode": {
    "name": "ipython",
    "version": 3
   },
   "file_extension": ".py",
   "mimetype": "text/x-python",
   "name": "python",
   "nbconvert_exporter": "python",
   "pygments_lexer": "ipython3",
   "version": "3.8.5"
  }
 },
 "nbformat": 4,
 "nbformat_minor": 4
}
